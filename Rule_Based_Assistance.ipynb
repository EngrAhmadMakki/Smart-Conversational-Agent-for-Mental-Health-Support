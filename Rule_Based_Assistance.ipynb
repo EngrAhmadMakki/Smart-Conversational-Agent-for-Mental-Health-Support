{
 "cells": [
  {
   "cell_type": "markdown",
   "id": "64d3355c-2ce2-4c89-8f14-ca68cb2d0be9",
   "metadata": {},
   "source": [
    "# Smart Conversational Agent for Mental Health Support\n",
    "\n",
    "## Design Approach: Rule-Based\n",
    "\n",
    "### Overview\n",
    "\n",
    "This project aims to create a smart conversational agent designed to provide mental health support. The agent is built using a rule-based approach, allowing it to offer empathetic conversations, coping strategies, and resources for users experiencing stress, anxiety, or depression. Additionally, the agent can guide users to professional help if needed.\n",
    "\n",
    "### Table of Contents\n",
    "\n",
    "1. [Introduction](#introduction)\n",
    "2. [Objectives](#objectives)\n",
    "3. [Technologies Used](#technologies-used)\n",
    "4. [Dataset and Preprocessing](#dataset-and-preprocessing)\n",
    "5. [Rule-Based Design](#rule-based-design)\n",
    "6. [Implementation](#implementation)\n",
    "    1. [Text Normalization](#text-normalization)\n",
    "    2. [Bag of Words (BOW) Model](#bag-of-words-bow-model)\n",
    "    3. [Cosine Similarity Calculation](#cosine-similarity-calculation)\n",
    "    4. [Response Generation](#response-generation)\n",
    "7. [User Interaction](#user-interaction)\n",
    "8. [Examples](#examples)\n",
    "9. [Future Enhancements](#future-enhancements)\n",
    "10. [Conclusion](#conclusion)\n",
    "\n",
    "### Introduction\n",
    "\n",
    "Mental health is a crucial aspect of overall well-being, and many people experience stress, anxiety, or depression at some point in their lives. While professional help is essential, immediate support and coping strategies can be beneficial. This project aims to bridge that gap by providing a conversational agent capable of offering support and guidance.\n",
    "\n",
    "### Objectives\n",
    "\n",
    "- To provide empathetic conversation to users experiencing mental health issues.\n",
    "- To offer coping strategies and resources.\n",
    "- To guide users to professional help when necessary.\n",
    "\n",
    "### Technologies Used\n",
    "\n",
    "- Python\n",
    "- Natural Language Processing (NLP)\n",
    "- Scikit-learn\n",
    "- Pandas\n",
    "- NLTK (Natural Language Toolkit)\n",
    "\n",
    "### Rule-Based Design\n",
    "\n",
    "The agent will utilize a rule-based approach, where predefined rules and patterns are used to generate responses. This design ensures that the agent can handle a wide range of queries related to mental health.\n",
    "\n",
    "### Implementation"
   ]
  },
  {
   "cell_type": "code",
   "execution_count": 29,
   "id": "345c101e-26df-43f1-b199-416680b7d09f",
   "metadata": {},
   "outputs": [],
   "source": [
    "import pandas as pd\n",
    "import nltk \n",
    "import numpy as np\n",
    "import re\n",
    "from nltk.stem import wordnet                                  # to perform lemmitization\n",
    "from sklearn.feature_extraction.text import CountVectorizer    # to perform bow\n",
    "from sklearn.feature_extraction.text import TfidfVectorizer    # to perform tfidf\n",
    "from nltk import pos_tag                                       # for parts of speech\n",
    "from sklearn.metrics import pairwise_distances                 # to perfrom cosine similarity\n",
    "from nltk import word_tokenize                                 # to create tokens\n",
    "from nltk.corpus import stopwords                              # for stop words"
   ]
  },
  {
   "cell_type": "code",
   "execution_count": 30,
   "id": "c38dbeb3-1335-415d-82b0-1d00b67d2561",
   "metadata": {},
   "outputs": [
    {
     "data": {
      "text/html": [
       "<div>\n",
       "<style scoped>\n",
       "    .dataframe tbody tr th:only-of-type {\n",
       "        vertical-align: middle;\n",
       "    }\n",
       "\n",
       "    .dataframe tbody tr th {\n",
       "        vertical-align: top;\n",
       "    }\n",
       "\n",
       "    .dataframe thead th {\n",
       "        text-align: right;\n",
       "    }\n",
       "</style>\n",
       "<table border=\"1\" class=\"dataframe\">\n",
       "  <thead>\n",
       "    <tr style=\"text-align: right;\">\n",
       "      <th></th>\n",
       "      <th>Question_ID</th>\n",
       "      <th>Questions</th>\n",
       "      <th>Answers</th>\n",
       "    </tr>\n",
       "  </thead>\n",
       "  <tbody>\n",
       "    <tr>\n",
       "      <th>0</th>\n",
       "      <td>1590140</td>\n",
       "      <td>What does it mean to have a mental illness?</td>\n",
       "      <td>Mental illnesses are health conditions that di...</td>\n",
       "    </tr>\n",
       "    <tr>\n",
       "      <th>1</th>\n",
       "      <td>2110618</td>\n",
       "      <td>Who does mental illness affect?</td>\n",
       "      <td>Mental illness does can affect anyone, regardl...</td>\n",
       "    </tr>\n",
       "    <tr>\n",
       "      <th>2</th>\n",
       "      <td>9434130</td>\n",
       "      <td>What are some of the warning signs of mental i...</td>\n",
       "      <td>Symptoms of mental health disorders vary depen...</td>\n",
       "    </tr>\n",
       "    <tr>\n",
       "      <th>3</th>\n",
       "      <td>7657263</td>\n",
       "      <td>Can people with mental illness recover?</td>\n",
       "      <td>When healing from mental illness, early identi...</td>\n",
       "    </tr>\n",
       "    <tr>\n",
       "      <th>4</th>\n",
       "      <td>1619387</td>\n",
       "      <td>What should I do if I know someone who appears...</td>\n",
       "      <td>We encourage those with symptoms to talk to th...</td>\n",
       "    </tr>\n",
       "  </tbody>\n",
       "</table>\n",
       "</div>"
      ],
      "text/plain": [
       "   Question_ID                                          Questions  \\\n",
       "0      1590140        What does it mean to have a mental illness?   \n",
       "1      2110618                    Who does mental illness affect?   \n",
       "2      9434130  What are some of the warning signs of mental i...   \n",
       "3      7657263            Can people with mental illness recover?   \n",
       "4      1619387  What should I do if I know someone who appears...   \n",
       "\n",
       "                                             Answers  \n",
       "0  Mental illnesses are health conditions that di...  \n",
       "1  Mental illness does can affect anyone, regardl...  \n",
       "2  Symptoms of mental health disorders vary depen...  \n",
       "3  When healing from mental illness, early identi...  \n",
       "4  We encourage those with symptoms to talk to th...  "
      ]
     },
     "execution_count": 30,
     "metadata": {},
     "output_type": "execute_result"
    }
   ],
   "source": [
    "path_to_csv = 'Dataset/mentalhealth.csv'\n",
    "df = pd.read_csv(path_to_csv, nrows = 20)\n",
    "df.head()"
   ]
  },
  {
   "cell_type": "code",
   "execution_count": 31,
   "id": "c580889d-6136-4448-bf38-4c5351f8606f",
   "metadata": {},
   "outputs": [
    {
     "data": {
      "text/plain": [
       "Question_ID    0\n",
       "Questions      0\n",
       "Answers        0\n",
       "dtype: int64"
      ]
     },
     "execution_count": 31,
     "metadata": {},
     "output_type": "execute_result"
    }
   ],
   "source": [
    "df.isnull().sum()"
   ]
  },
  {
   "cell_type": "markdown",
   "id": "a2c960df-2dcd-4e06-a9f5-e3bf39948804",
   "metadata": {},
   "source": [
    "### Dataset and Preprocessing\n",
    "\n",
    "For this project, we will use a predefined set of questions and answers related to mental health support. The data will be preprocessed using text normalization techniques to ensure consistency and accuracy in responses."
   ]
  },
  {
   "cell_type": "code",
   "execution_count": 49,
   "id": "1aad809b-fb9c-441b-8a7c-ca455612f3c9",
   "metadata": {},
   "outputs": [
    {
     "data": {
      "text/plain": [
       "['Ahmad', 'Makki', 'is', 'working', 'very', 'hard', 'on', 'nlp', 'project']"
      ]
     },
     "execution_count": 49,
     "metadata": {},
     "output_type": "execute_result"
    }
   ],
   "source": [
    "sample_text=\"Ahmad Makki is working very hard on nlp project\"\n",
    "s=word_tokenize(sample_text)\n",
    "s"
   ]
  },
  {
   "cell_type": "code",
   "execution_count": 50,
   "id": "0400caab-16f5-4f96-a8e5-5a8c801b97e8",
   "metadata": {},
   "outputs": [
    {
     "data": {
      "text/plain": [
       "'book'"
      ]
     },
     "execution_count": 50,
     "metadata": {},
     "output_type": "execute_result"
    }
   ],
   "source": [
    "lemma=wordnet.WordNetLemmatizer()\n",
    "lemma.lemmatize('booked',pos='v')"
   ]
  },
  {
   "cell_type": "code",
   "execution_count": 54,
   "id": "e258c250-01da-4381-a74a-fe8d4677267b",
   "metadata": {},
   "outputs": [
    {
     "data": {
      "text/plain": [
       "[('Ahmad', 'NNP'),\n",
       " ('Makki', 'NNP'),\n",
       " ('is', 'VBZ'),\n",
       " ('working', 'VBG'),\n",
       " ('very', 'RB'),\n",
       " ('hard', 'RB'),\n",
       " ('on', 'IN'),\n",
       " ('nlp', 'NNS'),\n",
       " ('project', 'NN')]"
      ]
     },
     "execution_count": 54,
     "metadata": {},
     "output_type": "execute_result"
    }
   ],
   "source": [
    "pos_tag(nltk.word_tokenize(sample_text))"
   ]
  },
  {
   "cell_type": "code",
   "execution_count": 64,
   "id": "cae5ec6e-5602-49c2-bd31-fc706a1cd072",
   "metadata": {},
   "outputs": [
    {
     "name": "stdout",
     "output_type": "stream",
     "text": [
      "['i', 'me', 'my', 'myself', 'we', 'our', 'ours', 'ourselves', 'you', \"you're\", \"you've\", \"you'll\", \"you'd\", 'your', 'yours', 'yourself', 'yourselves', 'he', 'him', 'his', 'himself', 'she', \"she's\", 'her', 'hers', 'herself', 'it', \"it's\", 'its', 'itself', 'they', 'them', 'their', 'theirs', 'themselves', 'what', 'which', 'who', 'whom', 'this', 'that', \"that'll\", 'these', 'those', 'am', 'is', 'are', 'was', 'were', 'be', 'been', 'being', 'have', 'has', 'had', 'having', 'do', 'does', 'did', 'doing', 'a', 'an', 'the', 'and', 'but', 'if', 'or', 'because', 'as', 'until', 'while', 'of', 'at', 'by', 'for', 'with', 'about', 'against', 'between', 'into', 'through', 'during', 'before', 'after', 'above', 'below', 'to', 'from', 'up', 'down', 'in', 'out', 'on', 'off', 'over', 'under', 'again', 'further', 'then', 'once', 'here', 'there', 'when', 'where', 'why', 'how', 'all', 'any', 'both', 'each', 'few', 'more', 'most', 'other', 'some', 'such', 'no', 'nor', 'not', 'only', 'own', 'same', 'so', 'than', 'too', 'very', 's', 't', 'can', 'will', 'just', 'don', \"don't\", 'should', \"should've\", 'now', 'd', 'll', 'm', 'o', 're', 've', 'y', 'ain', 'aren', \"aren't\", 'couldn', \"couldn't\", 'didn', \"didn't\", 'doesn', \"doesn't\", 'hadn', \"hadn't\", 'hasn', \"hasn't\", 'haven', \"haven't\", 'isn', \"isn't\", 'ma', 'mightn', \"mightn't\", 'mustn', \"mustn't\", 'needn', \"needn't\", 'shan', \"shan't\", 'shouldn', \"shouldn't\", 'wasn', \"wasn't\", 'weren', \"weren't\", 'won', \"won't\", 'wouldn', \"wouldn't\"]\n"
     ]
    }
   ],
   "source": [
    "stop=stopwords.words('english')\n",
    "print(stop)"
   ]
  },
  {
   "cell_type": "markdown",
   "id": "407684b0-58b8-4357-9bd3-1c52448fdd77",
   "metadata": {},
   "source": [
    "#### Text Normalization\n",
    "\n",
    "Text normalization involves converting text to a standard format, including lowercasing, removing punctuation, and lemmatization.\n",
    "\n",
    "```python\n",
    "def text_normalization(text):\n",
    "    # Implement the actual text normalization logic\n",
    "    return text.lower()"
   ]
  },
  {
   "cell_type": "code",
   "execution_count": 65,
   "id": "8b448ae6-c1b2-49a9-9fd3-386c9798ce3c",
   "metadata": {},
   "outputs": [],
   "source": [
    "# function that performs text normalization steps and returns the lemmatized tokens as a sentence\n",
    "\n",
    "def text_normalization(text):\n",
    "    text = str(text).lower()                        # text to lower case\n",
    "    spl_char_text = re.sub(r'[^ a-z]','',text)      # removing special characters\n",
    "    tokens = nltk.word_tokenize(spl_char_text)      # word tokenizing\n",
    "    lema = wordnet.WordNetLemmatizer()              # intializing lemmatization\n",
    "    tags_list = pos_tag(tokens,tagset=None)         # parts of speech\n",
    "    lema_words = []                                 # empty list \n",
    "    for token,pos_token in tags_list:               # lemmatize according to POS\n",
    "        if pos_token.startswith('V'):               # Verb\n",
    "            pos_val = 'v'\n",
    "        elif pos_token.startswith('J'):             # Adjective\n",
    "            pos_val = 'a'\n",
    "        elif pos_token.startswith('R'):             # Adverb\n",
    "            pos_val = 'r'\n",
    "        else:\n",
    "            pos_val = 'n'                           # Noun\n",
    "            \n",
    "        lema_token = lema.lemmatize(token,pos_val)\n",
    "\n",
    "        if lema_token in stop: \n",
    "          lema_words.append(lema_token)             # appending the lemmatized token into a list\n",
    "    \n",
    "    return \" \".join(lema_words) "
   ]
  },
  {
   "cell_type": "code",
   "execution_count": 74,
   "id": "f0c0de49-6805-4332-93b2-a6cf0668faad",
   "metadata": {},
   "outputs": [
    {
     "data": {
      "text/plain": [
       "'be very on'"
      ]
     },
     "execution_count": 74,
     "metadata": {},
     "output_type": "execute_result"
    }
   ],
   "source": [
    "text_normalization(sample_text)  # example"
   ]
  },
  {
   "cell_type": "code",
   "execution_count": 76,
   "id": "7522d1b0-dbd1-4336-8552-22439ae017aa",
   "metadata": {},
   "outputs": [
    {
     "data": {
      "text/html": [
       "<div>\n",
       "<style scoped>\n",
       "    .dataframe tbody tr th:only-of-type {\n",
       "        vertical-align: middle;\n",
       "    }\n",
       "\n",
       "    .dataframe tbody tr th {\n",
       "        vertical-align: top;\n",
       "    }\n",
       "\n",
       "    .dataframe thead th {\n",
       "        text-align: right;\n",
       "    }\n",
       "</style>\n",
       "<table border=\"1\" class=\"dataframe\">\n",
       "  <thead>\n",
       "    <tr style=\"text-align: right;\">\n",
       "      <th></th>\n",
       "      <th>Question_ID</th>\n",
       "      <th>Questions</th>\n",
       "      <th>Answers</th>\n",
       "      <th>lemmatized_text</th>\n",
       "    </tr>\n",
       "  </thead>\n",
       "  <tbody>\n",
       "    <tr>\n",
       "      <th>0</th>\n",
       "      <td>1590140</td>\n",
       "      <td>What does it mean to have a mental illness?</td>\n",
       "      <td>Mental illnesses are health conditions that di...</td>\n",
       "      <td>what do it to have a</td>\n",
       "    </tr>\n",
       "    <tr>\n",
       "      <th>1</th>\n",
       "      <td>2110618</td>\n",
       "      <td>Who does mental illness affect?</td>\n",
       "      <td>Mental illness does can affect anyone, regardl...</td>\n",
       "      <td>who do</td>\n",
       "    </tr>\n",
       "    <tr>\n",
       "      <th>2</th>\n",
       "      <td>9434130</td>\n",
       "      <td>What are some of the warning signs of mental i...</td>\n",
       "      <td>Symptoms of mental health disorders vary depen...</td>\n",
       "      <td>what be some of the of</td>\n",
       "    </tr>\n",
       "    <tr>\n",
       "      <th>3</th>\n",
       "      <td>7657263</td>\n",
       "      <td>Can people with mental illness recover?</td>\n",
       "      <td>When healing from mental illness, early identi...</td>\n",
       "      <td>can with</td>\n",
       "    </tr>\n",
       "  </tbody>\n",
       "</table>\n",
       "</div>"
      ],
      "text/plain": [
       "   Question_ID                                          Questions  \\\n",
       "0      1590140        What does it mean to have a mental illness?   \n",
       "1      2110618                    Who does mental illness affect?   \n",
       "2      9434130  What are some of the warning signs of mental i...   \n",
       "3      7657263            Can people with mental illness recover?   \n",
       "\n",
       "                                             Answers         lemmatized_text  \n",
       "0  Mental illnesses are health conditions that di...    what do it to have a  \n",
       "1  Mental illness does can affect anyone, regardl...                  who do  \n",
       "2  Symptoms of mental health disorders vary depen...  what be some of the of  \n",
       "3  When healing from mental illness, early identi...                can with  "
      ]
     },
     "execution_count": 76,
     "metadata": {},
     "output_type": "execute_result"
    }
   ],
   "source": [
    "df['lemmatized_text']=df['Questions'].apply(text_normalization)\n",
    "df.head(4)"
   ]
  },
  {
   "cell_type": "code",
   "execution_count": 81,
   "id": "d4057212-edf3-4cf6-b6be-5a36a59847f4",
   "metadata": {},
   "outputs": [],
   "source": [
    "cv=CountVectorizer()\n",
    "X=cv.fit_transform(df['lemmatized_text']).toarray()"
   ]
  },
  {
   "cell_type": "code",
   "execution_count": 97,
   "id": "429ffc5a-7757-4fad-9b6c-f9f42fe34277",
   "metadata": {},
   "outputs": [
    {
     "data": {
      "text/html": [
       "<div>\n",
       "<style scoped>\n",
       "    .dataframe tbody tr th:only-of-type {\n",
       "        vertical-align: middle;\n",
       "    }\n",
       "\n",
       "    .dataframe tbody tr th {\n",
       "        vertical-align: top;\n",
       "    }\n",
       "\n",
       "    .dataframe thead th {\n",
       "        text-align: right;\n",
       "    }\n",
       "</style>\n",
       "<table border=\"1\" class=\"dataframe\">\n",
       "  <thead>\n",
       "    <tr style=\"text-align: right;\">\n",
       "      <th></th>\n",
       "      <th>about</th>\n",
       "      <th>after</th>\n",
       "      <th>and</th>\n",
       "      <th>be</th>\n",
       "      <th>before</th>\n",
       "      <th>between</th>\n",
       "      <th>can</th>\n",
       "      <th>do</th>\n",
       "      <th>for</th>\n",
       "      <th>have</th>\n",
       "      <th>...</th>\n",
       "      <th>or</th>\n",
       "      <th>should</th>\n",
       "      <th>some</th>\n",
       "      <th>the</th>\n",
       "      <th>this</th>\n",
       "      <th>to</th>\n",
       "      <th>what</th>\n",
       "      <th>where</th>\n",
       "      <th>who</th>\n",
       "      <th>with</th>\n",
       "    </tr>\n",
       "  </thead>\n",
       "  <tbody>\n",
       "    <tr>\n",
       "      <th>0</th>\n",
       "      <td>0</td>\n",
       "      <td>0</td>\n",
       "      <td>0</td>\n",
       "      <td>0</td>\n",
       "      <td>0</td>\n",
       "      <td>0</td>\n",
       "      <td>0</td>\n",
       "      <td>1</td>\n",
       "      <td>0</td>\n",
       "      <td>1</td>\n",
       "      <td>...</td>\n",
       "      <td>0</td>\n",
       "      <td>0</td>\n",
       "      <td>0</td>\n",
       "      <td>0</td>\n",
       "      <td>0</td>\n",
       "      <td>1</td>\n",
       "      <td>1</td>\n",
       "      <td>0</td>\n",
       "      <td>0</td>\n",
       "      <td>0</td>\n",
       "    </tr>\n",
       "    <tr>\n",
       "      <th>1</th>\n",
       "      <td>0</td>\n",
       "      <td>0</td>\n",
       "      <td>0</td>\n",
       "      <td>0</td>\n",
       "      <td>0</td>\n",
       "      <td>0</td>\n",
       "      <td>0</td>\n",
       "      <td>1</td>\n",
       "      <td>0</td>\n",
       "      <td>0</td>\n",
       "      <td>...</td>\n",
       "      <td>0</td>\n",
       "      <td>0</td>\n",
       "      <td>0</td>\n",
       "      <td>0</td>\n",
       "      <td>0</td>\n",
       "      <td>0</td>\n",
       "      <td>0</td>\n",
       "      <td>0</td>\n",
       "      <td>1</td>\n",
       "      <td>0</td>\n",
       "    </tr>\n",
       "    <tr>\n",
       "      <th>2</th>\n",
       "      <td>0</td>\n",
       "      <td>0</td>\n",
       "      <td>0</td>\n",
       "      <td>1</td>\n",
       "      <td>0</td>\n",
       "      <td>0</td>\n",
       "      <td>0</td>\n",
       "      <td>0</td>\n",
       "      <td>0</td>\n",
       "      <td>0</td>\n",
       "      <td>...</td>\n",
       "      <td>0</td>\n",
       "      <td>0</td>\n",
       "      <td>1</td>\n",
       "      <td>1</td>\n",
       "      <td>0</td>\n",
       "      <td>0</td>\n",
       "      <td>1</td>\n",
       "      <td>0</td>\n",
       "      <td>0</td>\n",
       "      <td>0</td>\n",
       "    </tr>\n",
       "    <tr>\n",
       "      <th>3</th>\n",
       "      <td>0</td>\n",
       "      <td>0</td>\n",
       "      <td>0</td>\n",
       "      <td>0</td>\n",
       "      <td>0</td>\n",
       "      <td>0</td>\n",
       "      <td>1</td>\n",
       "      <td>0</td>\n",
       "      <td>0</td>\n",
       "      <td>0</td>\n",
       "      <td>...</td>\n",
       "      <td>0</td>\n",
       "      <td>0</td>\n",
       "      <td>0</td>\n",
       "      <td>0</td>\n",
       "      <td>0</td>\n",
       "      <td>0</td>\n",
       "      <td>0</td>\n",
       "      <td>0</td>\n",
       "      <td>0</td>\n",
       "      <td>1</td>\n",
       "    </tr>\n",
       "  </tbody>\n",
       "</table>\n",
       "<p>4 rows × 27 columns</p>\n",
       "</div>"
      ],
      "text/plain": [
       "   about  after  and  be  before  between  can  do  for  have  ...  or  \\\n",
       "0      0      0    0   0       0        0    0   1    0     1  ...   0   \n",
       "1      0      0    0   0       0        0    0   1    0     0  ...   0   \n",
       "2      0      0    0   1       0        0    0   0    0     0  ...   0   \n",
       "3      0      0    0   0       0        0    1   0    0     0  ...   0   \n",
       "\n",
       "   should  some  the  this  to  what  where  who  with  \n",
       "0       0     0    0     0   1     1      0    0     0  \n",
       "1       0     0    0     0   0     0      0    1     0  \n",
       "2       0     1    1     0   0     1      0    0     0  \n",
       "3       0     0    0     0   0     0      0    0     1  \n",
       "\n",
       "[4 rows x 27 columns]"
      ]
     },
     "execution_count": 97,
     "metadata": {},
     "output_type": "execute_result"
    }
   ],
   "source": [
    "features=cv.get_feature_names_out()\n",
    "df_bot=pd.DataFrame(X,columns=features)\n",
    "df_bot.head(4)"
   ]
  },
  {
   "cell_type": "code",
   "execution_count": 98,
   "id": "5eafd87a-6e00-490b-b748-94cf525b3e2b",
   "metadata": {},
   "outputs": [
    {
     "data": {
      "text/plain": [
       "array([[0, 0, 0, 1, 0, 0, 0, 0, 0, 0, 0, 0, 0, 0, 0, 0, 0, 0, 0, 0, 0, 0,\n",
       "        0, 1, 0, 0, 0]], dtype=int64)"
      ]
     },
     "execution_count": 98,
     "metadata": {},
     "output_type": "execute_result"
    }
   ],
   "source": [
    "Question = 'What treatment options are available'                           # example\n",
    "Question_lemma = text_normalization(Question)                               # clean text\n",
    "Question_bot = cv.transform([Question_lemma]).toarray()                     # applying bow\n",
    "Question_bot"
   ]
  },
  {
   "cell_type": "markdown",
   "id": "f8c08785-475e-43bb-8e7e-159e868c5882",
   "metadata": {},
   "source": [
    "## Cosine Similarity Calculation\n",
    "Cosine similarity measures the similarity between two vectors, helping identify the most relevant response."
   ]
  },
  {
   "cell_type": "code",
   "execution_count": 100,
   "id": "96756a8b-f034-4286-9718-a4ff856b161c",
   "metadata": {},
   "outputs": [
    {
     "data": {
      "text/plain": [
       "array([[0.31622777],\n",
       "       [0.        ],\n",
       "       [0.5       ],\n",
       "       [0.        ],\n",
       "       [0.23570226],\n",
       "       [0.        ],\n",
       "       [1.        ],\n",
       "       [0.31622777],\n",
       "       [0.70710678],\n",
       "       [0.        ],\n",
       "       [0.31622777],\n",
       "       [0.        ],\n",
       "       [0.40824829],\n",
       "       [0.25      ],\n",
       "       [0.        ],\n",
       "       [0.        ],\n",
       "       [0.        ],\n",
       "       [0.70710678],\n",
       "       [0.        ],\n",
       "       [0.        ]])"
      ]
     },
     "execution_count": 100,
     "metadata": {},
     "output_type": "execute_result"
    }
   ],
   "source": [
    "cosine_sim=1-pairwise_distances(df_bot,Question_bot,metric='cosine')\n",
    "cosine_sim"
   ]
  },
  {
   "cell_type": "code",
   "execution_count": 101,
   "id": "f3d911bd-48bc-41f6-b6f9-25080c572f4c",
   "metadata": {},
   "outputs": [],
   "source": [
    "df['Similarity']=cosine_sim"
   ]
  },
  {
   "cell_type": "code",
   "execution_count": 105,
   "id": "f3dc9b4b-539c-4e8b-a524-1ef78b2cb0d4",
   "metadata": {},
   "outputs": [
    {
     "data": {
      "text/html": [
       "<div>\n",
       "<style scoped>\n",
       "    .dataframe tbody tr th:only-of-type {\n",
       "        vertical-align: middle;\n",
       "    }\n",
       "\n",
       "    .dataframe tbody tr th {\n",
       "        vertical-align: top;\n",
       "    }\n",
       "\n",
       "    .dataframe thead th {\n",
       "        text-align: right;\n",
       "    }\n",
       "</style>\n",
       "<table border=\"1\" class=\"dataframe\">\n",
       "  <thead>\n",
       "    <tr style=\"text-align: right;\">\n",
       "      <th></th>\n",
       "      <th>Answers</th>\n",
       "      <th>Similarity</th>\n",
       "    </tr>\n",
       "  </thead>\n",
       "  <tbody>\n",
       "    <tr>\n",
       "      <th>0</th>\n",
       "      <td>Mental illnesses are health conditions that di...</td>\n",
       "      <td>0.316228</td>\n",
       "    </tr>\n",
       "    <tr>\n",
       "      <th>1</th>\n",
       "      <td>Mental illness does can affect anyone, regardl...</td>\n",
       "      <td>0.000000</td>\n",
       "    </tr>\n",
       "    <tr>\n",
       "      <th>2</th>\n",
       "      <td>Symptoms of mental health disorders vary depen...</td>\n",
       "      <td>0.500000</td>\n",
       "    </tr>\n",
       "    <tr>\n",
       "      <th>3</th>\n",
       "      <td>When healing from mental illness, early identi...</td>\n",
       "      <td>0.000000</td>\n",
       "    </tr>\n",
       "    <tr>\n",
       "      <th>4</th>\n",
       "      <td>We encourage those with symptoms to talk to th...</td>\n",
       "      <td>0.235702</td>\n",
       "    </tr>\n",
       "  </tbody>\n",
       "</table>\n",
       "</div>"
      ],
      "text/plain": [
       "                                             Answers  Similarity\n",
       "0  Mental illnesses are health conditions that di...    0.316228\n",
       "1  Mental illness does can affect anyone, regardl...    0.000000\n",
       "2  Symptoms of mental health disorders vary depen...    0.500000\n",
       "3  When healing from mental illness, early identi...    0.000000\n",
       "4  We encourage those with symptoms to talk to th...    0.235702"
      ]
     },
     "execution_count": 105,
     "metadata": {},
     "output_type": "execute_result"
    }
   ],
   "source": [
    "simi_score=pd.DataFrame(df,columns=['Answers','Similarity'])\n",
    "simi_score.head()"
   ]
  },
  {
   "cell_type": "code",
   "execution_count": 107,
   "id": "b53880cf-bad9-4802-8edc-b57f1dee65da",
   "metadata": {},
   "outputs": [
    {
     "data": {
      "text/html": [
       "<div>\n",
       "<style scoped>\n",
       "    .dataframe tbody tr th:only-of-type {\n",
       "        vertical-align: middle;\n",
       "    }\n",
       "\n",
       "    .dataframe tbody tr th {\n",
       "        vertical-align: top;\n",
       "    }\n",
       "\n",
       "    .dataframe thead th {\n",
       "        text-align: right;\n",
       "    }\n",
       "</style>\n",
       "<table border=\"1\" class=\"dataframe\">\n",
       "  <thead>\n",
       "    <tr style=\"text-align: right;\">\n",
       "      <th></th>\n",
       "      <th>Answers</th>\n",
       "      <th>Similarity</th>\n",
       "    </tr>\n",
       "  </thead>\n",
       "  <tbody>\n",
       "    <tr>\n",
       "      <th>6</th>\n",
       "      <td>Different treatment options are available for ...</td>\n",
       "      <td>1.000000</td>\n",
       "    </tr>\n",
       "    <tr>\n",
       "      <th>17</th>\n",
       "      <td>There are many types of mental health professi...</td>\n",
       "      <td>0.707107</td>\n",
       "    </tr>\n",
       "    <tr>\n",
       "      <th>8</th>\n",
       "      <td>There are many types of mental health professi...</td>\n",
       "      <td>0.707107</td>\n",
       "    </tr>\n",
       "    <tr>\n",
       "      <th>2</th>\n",
       "      <td>Symptoms of mental health disorders vary depen...</td>\n",
       "      <td>0.500000</td>\n",
       "    </tr>\n",
       "    <tr>\n",
       "      <th>12</th>\n",
       "      <td>The best source of information regarding medic...</td>\n",
       "      <td>0.408248</td>\n",
       "    </tr>\n",
       "  </tbody>\n",
       "</table>\n",
       "</div>"
      ],
      "text/plain": [
       "                                              Answers  Similarity\n",
       "6   Different treatment options are available for ...    1.000000\n",
       "17  There are many types of mental health professi...    0.707107\n",
       "8   There are many types of mental health professi...    0.707107\n",
       "2   Symptoms of mental health disorders vary depen...    0.500000\n",
       "12  The best source of information regarding medic...    0.408248"
      ]
     },
     "execution_count": 107,
     "metadata": {},
     "output_type": "execute_result"
    }
   ],
   "source": [
    "simi_score_Decending=simi_score.sort_values(by='Similarity',ascending=False)\n",
    "simi_score_Decending.head()"
   ]
  },
  {
   "cell_type": "code",
   "execution_count": 109,
   "id": "4ac363b5-db16-4f85-b919-c5deb53e4147",
   "metadata": {},
   "outputs": [
    {
     "data": {
      "text/html": [
       "<div>\n",
       "<style scoped>\n",
       "    .dataframe tbody tr th:only-of-type {\n",
       "        vertical-align: middle;\n",
       "    }\n",
       "\n",
       "    .dataframe tbody tr th {\n",
       "        vertical-align: top;\n",
       "    }\n",
       "\n",
       "    .dataframe thead th {\n",
       "        text-align: right;\n",
       "    }\n",
       "</style>\n",
       "<table border=\"1\" class=\"dataframe\">\n",
       "  <thead>\n",
       "    <tr style=\"text-align: right;\">\n",
       "      <th></th>\n",
       "      <th>Answers</th>\n",
       "      <th>Similarity</th>\n",
       "    </tr>\n",
       "  </thead>\n",
       "  <tbody>\n",
       "    <tr>\n",
       "      <th>6</th>\n",
       "      <td>Different treatment options are available for ...</td>\n",
       "      <td>1.000000</td>\n",
       "    </tr>\n",
       "    <tr>\n",
       "      <th>17</th>\n",
       "      <td>There are many types of mental health professi...</td>\n",
       "      <td>0.707107</td>\n",
       "    </tr>\n",
       "    <tr>\n",
       "      <th>8</th>\n",
       "      <td>There are many types of mental health professi...</td>\n",
       "      <td>0.707107</td>\n",
       "    </tr>\n",
       "    <tr>\n",
       "      <th>2</th>\n",
       "      <td>Symptoms of mental health disorders vary depen...</td>\n",
       "      <td>0.500000</td>\n",
       "    </tr>\n",
       "    <tr>\n",
       "      <th>12</th>\n",
       "      <td>The best source of information regarding medic...</td>\n",
       "      <td>0.408248</td>\n",
       "    </tr>\n",
       "  </tbody>\n",
       "</table>\n",
       "</div>"
      ],
      "text/plain": [
       "                                              Answers  Similarity\n",
       "6   Different treatment options are available for ...    1.000000\n",
       "17  There are many types of mental health professi...    0.707107\n",
       "8   There are many types of mental health professi...    0.707107\n",
       "2   Symptoms of mental health disorders vary depen...    0.500000\n",
       "12  The best source of information regarding medic...    0.408248"
      ]
     },
     "execution_count": 109,
     "metadata": {},
     "output_type": "execute_result"
    }
   ],
   "source": [
    "threshold=0.1\n",
    "df_threshold=simi_score_Decending[simi_score_Decending['Similarity']>0.1]\n",
    "df_threshold.head()"
   ]
  },
  {
   "cell_type": "code",
   "execution_count": 111,
   "id": "86ab30ea-5fdb-4cbb-b96d-833d6a2f9f38",
   "metadata": {},
   "outputs": [
    {
     "data": {
      "text/plain": [
       "6"
      ]
     },
     "execution_count": 111,
     "metadata": {},
     "output_type": "execute_result"
    }
   ],
   "source": [
    "index_value=cosine_sim.argmax()\n",
    "index_value"
   ]
  },
  {
   "cell_type": "code",
   "execution_count": 113,
   "id": "f1c0555b-dd16-4925-9f4e-f52a7f357e8e",
   "metadata": {},
   "outputs": [
    {
     "data": {
      "text/plain": [
       "'Different treatment options are available for individuals with mental illness.'"
      ]
     },
     "execution_count": 113,
     "metadata": {},
     "output_type": "execute_result"
    }
   ],
   "source": [
    "df['Answers'].loc[index_value]"
   ]
  },
  {
   "cell_type": "markdown",
   "id": "67f7bcc7-9b85-4fe7-ae95-50e8848dc7eb",
   "metadata": {},
   "source": [
    "## TF-IDF"
   ]
  },
  {
   "cell_type": "code",
   "execution_count": 135,
   "id": "661895aa-03eb-438b-9534-3c712dec0b33",
   "metadata": {},
   "outputs": [],
   "source": [
    "Question1 = 'What treatment options are available'"
   ]
  },
  {
   "cell_type": "code",
   "execution_count": 136,
   "id": "15579875-85a8-4c4c-aace-ee78f2e24cd3",
   "metadata": {},
   "outputs": [],
   "source": [
    "# using tf-idf\n",
    "\n",
    "tfidf = TfidfVectorizer()                                             # intializing tf-id \n",
    "x_tfidf = tfidf.fit_transform(df['lemmatized_text']).toarray()        # transforming the data into array"
   ]
  },
  {
   "cell_type": "code",
   "execution_count": 137,
   "id": "9f4560fe-9205-4c96-a0c1-032d927aae64",
   "metadata": {},
   "outputs": [],
   "source": [
    "Question_lemma1 = text_normalization(Question1)\n",
    "Question_tfidf = tfidf.transform([Question_lemma1]).toarray()         # applying tf-idf"
   ]
  },
  {
   "cell_type": "code",
   "execution_count": 138,
   "id": "e8bd7700-c537-46cf-bce3-95df8f991ea0",
   "metadata": {},
   "outputs": [
    {
     "data": {
      "text/html": [
       "<div>\n",
       "<style scoped>\n",
       "    .dataframe tbody tr th:only-of-type {\n",
       "        vertical-align: middle;\n",
       "    }\n",
       "\n",
       "    .dataframe tbody tr th {\n",
       "        vertical-align: top;\n",
       "    }\n",
       "\n",
       "    .dataframe thead th {\n",
       "        text-align: right;\n",
       "    }\n",
       "</style>\n",
       "<table border=\"1\" class=\"dataframe\">\n",
       "  <thead>\n",
       "    <tr style=\"text-align: right;\">\n",
       "      <th></th>\n",
       "      <th>about</th>\n",
       "      <th>after</th>\n",
       "      <th>and</th>\n",
       "      <th>be</th>\n",
       "      <th>before</th>\n",
       "      <th>between</th>\n",
       "      <th>can</th>\n",
       "      <th>do</th>\n",
       "      <th>for</th>\n",
       "      <th>have</th>\n",
       "      <th>...</th>\n",
       "      <th>or</th>\n",
       "      <th>should</th>\n",
       "      <th>some</th>\n",
       "      <th>the</th>\n",
       "      <th>this</th>\n",
       "      <th>to</th>\n",
       "      <th>what</th>\n",
       "      <th>where</th>\n",
       "      <th>who</th>\n",
       "      <th>with</th>\n",
       "    </tr>\n",
       "  </thead>\n",
       "  <tbody>\n",
       "    <tr>\n",
       "      <th>0</th>\n",
       "      <td>0.0</td>\n",
       "      <td>0.0</td>\n",
       "      <td>0.0</td>\n",
       "      <td>0.000000</td>\n",
       "      <td>0.0</td>\n",
       "      <td>0.0</td>\n",
       "      <td>0.000000</td>\n",
       "      <td>0.392029</td>\n",
       "      <td>0.0</td>\n",
       "      <td>0.550307</td>\n",
       "      <td>...</td>\n",
       "      <td>0.0</td>\n",
       "      <td>0.000000</td>\n",
       "      <td>0.000000</td>\n",
       "      <td>0.000000</td>\n",
       "      <td>0.0</td>\n",
       "      <td>0.367085</td>\n",
       "      <td>0.325401</td>\n",
       "      <td>0.0</td>\n",
       "      <td>0.000000</td>\n",
       "      <td>0.000000</td>\n",
       "    </tr>\n",
       "    <tr>\n",
       "      <th>1</th>\n",
       "      <td>0.0</td>\n",
       "      <td>0.0</td>\n",
       "      <td>0.0</td>\n",
       "      <td>0.000000</td>\n",
       "      <td>0.0</td>\n",
       "      <td>0.0</td>\n",
       "      <td>0.000000</td>\n",
       "      <td>0.580211</td>\n",
       "      <td>0.0</td>\n",
       "      <td>0.000000</td>\n",
       "      <td>...</td>\n",
       "      <td>0.0</td>\n",
       "      <td>0.000000</td>\n",
       "      <td>0.000000</td>\n",
       "      <td>0.000000</td>\n",
       "      <td>0.0</td>\n",
       "      <td>0.000000</td>\n",
       "      <td>0.000000</td>\n",
       "      <td>0.0</td>\n",
       "      <td>0.814466</td>\n",
       "      <td>0.000000</td>\n",
       "    </tr>\n",
       "    <tr>\n",
       "      <th>2</th>\n",
       "      <td>0.0</td>\n",
       "      <td>0.0</td>\n",
       "      <td>0.0</td>\n",
       "      <td>0.321859</td>\n",
       "      <td>0.0</td>\n",
       "      <td>0.0</td>\n",
       "      <td>0.000000</td>\n",
       "      <td>0.000000</td>\n",
       "      <td>0.0</td>\n",
       "      <td>0.000000</td>\n",
       "      <td>...</td>\n",
       "      <td>0.0</td>\n",
       "      <td>0.000000</td>\n",
       "      <td>0.478821</td>\n",
       "      <td>0.347908</td>\n",
       "      <td>0.0</td>\n",
       "      <td>0.000000</td>\n",
       "      <td>0.248876</td>\n",
       "      <td>0.0</td>\n",
       "      <td>0.000000</td>\n",
       "      <td>0.000000</td>\n",
       "    </tr>\n",
       "    <tr>\n",
       "      <th>3</th>\n",
       "      <td>0.0</td>\n",
       "      <td>0.0</td>\n",
       "      <td>0.0</td>\n",
       "      <td>0.000000</td>\n",
       "      <td>0.0</td>\n",
       "      <td>0.0</td>\n",
       "      <td>0.440977</td>\n",
       "      <td>0.000000</td>\n",
       "      <td>0.0</td>\n",
       "      <td>0.000000</td>\n",
       "      <td>...</td>\n",
       "      <td>0.0</td>\n",
       "      <td>0.000000</td>\n",
       "      <td>0.000000</td>\n",
       "      <td>0.000000</td>\n",
       "      <td>0.0</td>\n",
       "      <td>0.000000</td>\n",
       "      <td>0.000000</td>\n",
       "      <td>0.0</td>\n",
       "      <td>0.000000</td>\n",
       "      <td>0.897519</td>\n",
       "    </tr>\n",
       "    <tr>\n",
       "      <th>4</th>\n",
       "      <td>0.0</td>\n",
       "      <td>0.0</td>\n",
       "      <td>0.0</td>\n",
       "      <td>0.000000</td>\n",
       "      <td>0.0</td>\n",
       "      <td>0.0</td>\n",
       "      <td>0.000000</td>\n",
       "      <td>0.282658</td>\n",
       "      <td>0.0</td>\n",
       "      <td>0.396779</td>\n",
       "      <td>...</td>\n",
       "      <td>0.0</td>\n",
       "      <td>0.396779</td>\n",
       "      <td>0.000000</td>\n",
       "      <td>0.327977</td>\n",
       "      <td>0.0</td>\n",
       "      <td>0.264673</td>\n",
       "      <td>0.234618</td>\n",
       "      <td>0.0</td>\n",
       "      <td>0.396779</td>\n",
       "      <td>0.000000</td>\n",
       "    </tr>\n",
       "  </tbody>\n",
       "</table>\n",
       "<p>5 rows × 27 columns</p>\n",
       "</div>"
      ],
      "text/plain": [
       "   about  after  and        be  before  between       can        do  for  \\\n",
       "0    0.0    0.0  0.0  0.000000     0.0      0.0  0.000000  0.392029  0.0   \n",
       "1    0.0    0.0  0.0  0.000000     0.0      0.0  0.000000  0.580211  0.0   \n",
       "2    0.0    0.0  0.0  0.321859     0.0      0.0  0.000000  0.000000  0.0   \n",
       "3    0.0    0.0  0.0  0.000000     0.0      0.0  0.440977  0.000000  0.0   \n",
       "4    0.0    0.0  0.0  0.000000     0.0      0.0  0.000000  0.282658  0.0   \n",
       "\n",
       "       have  ...   or    should      some       the  this        to      what  \\\n",
       "0  0.550307  ...  0.0  0.000000  0.000000  0.000000   0.0  0.367085  0.325401   \n",
       "1  0.000000  ...  0.0  0.000000  0.000000  0.000000   0.0  0.000000  0.000000   \n",
       "2  0.000000  ...  0.0  0.000000  0.478821  0.347908   0.0  0.000000  0.248876   \n",
       "3  0.000000  ...  0.0  0.000000  0.000000  0.000000   0.0  0.000000  0.000000   \n",
       "4  0.396779  ...  0.0  0.396779  0.000000  0.327977   0.0  0.264673  0.234618   \n",
       "\n",
       "   where       who      with  \n",
       "0    0.0  0.000000  0.000000  \n",
       "1    0.0  0.814466  0.000000  \n",
       "2    0.0  0.000000  0.000000  \n",
       "3    0.0  0.000000  0.897519  \n",
       "4    0.0  0.396779  0.000000  \n",
       "\n",
       "[5 rows x 27 columns]"
      ]
     },
     "execution_count": 138,
     "metadata": {},
     "output_type": "execute_result"
    }
   ],
   "source": [
    "# returns all the unique word from data with a score of that word\n",
    "\n",
    "df_tfidf = pd.DataFrame(x_tfidf,columns = tfidf.get_feature_names_out()) \n",
    "df_tfidf.head()"
   ]
  },
  {
   "cell_type": "code",
   "execution_count": 139,
   "id": "19331198-f57d-4889-9db6-cc5f6746285a",
   "metadata": {},
   "outputs": [
    {
     "data": {
      "text/plain": [
       "array([[0.19904882],\n",
       "       [0.        ],\n",
       "       [0.40685646],\n",
       "       [0.        ],\n",
       "       [0.14351684],\n",
       "       [0.        ],\n",
       "       [1.        ],\n",
       "       [0.20934186],\n",
       "       [0.56647821],\n",
       "       [0.        ],\n",
       "       [0.20934186],\n",
       "       [0.        ],\n",
       "       [0.22245129],\n",
       "       [0.22913146],\n",
       "       [0.        ],\n",
       "       [0.        ],\n",
       "       [0.        ],\n",
       "       [0.6372619 ],\n",
       "       [0.        ],\n",
       "       [0.        ]])"
      ]
     },
     "execution_count": 139,
     "metadata": {},
     "output_type": "execute_result"
    }
   ],
   "source": [
    "cos = 1-pairwise_distances(df_tfidf,Question_tfidf,metric='cosine')                     # applying cosine similarity\n",
    "cos"
   ]
  },
  {
   "cell_type": "code",
   "execution_count": 141,
   "id": "c8861ef3-c566-48ae-9951-6f911a7ce832",
   "metadata": {},
   "outputs": [
    {
     "data": {
      "text/html": [
       "<div>\n",
       "<style scoped>\n",
       "    .dataframe tbody tr th:only-of-type {\n",
       "        vertical-align: middle;\n",
       "    }\n",
       "\n",
       "    .dataframe tbody tr th {\n",
       "        vertical-align: top;\n",
       "    }\n",
       "\n",
       "    .dataframe thead th {\n",
       "        text-align: right;\n",
       "    }\n",
       "</style>\n",
       "<table border=\"1\" class=\"dataframe\">\n",
       "  <thead>\n",
       "    <tr style=\"text-align: right;\">\n",
       "      <th></th>\n",
       "      <th>Answers</th>\n",
       "      <th>similarity_tfidf</th>\n",
       "    </tr>\n",
       "  </thead>\n",
       "  <tbody>\n",
       "    <tr>\n",
       "      <th>0</th>\n",
       "      <td>Mental illnesses are health conditions that di...</td>\n",
       "      <td>0.199049</td>\n",
       "    </tr>\n",
       "    <tr>\n",
       "      <th>1</th>\n",
       "      <td>Mental illness does can affect anyone, regardl...</td>\n",
       "      <td>0.000000</td>\n",
       "    </tr>\n",
       "    <tr>\n",
       "      <th>2</th>\n",
       "      <td>Symptoms of mental health disorders vary depen...</td>\n",
       "      <td>0.406856</td>\n",
       "    </tr>\n",
       "    <tr>\n",
       "      <th>3</th>\n",
       "      <td>When healing from mental illness, early identi...</td>\n",
       "      <td>0.000000</td>\n",
       "    </tr>\n",
       "    <tr>\n",
       "      <th>4</th>\n",
       "      <td>We encourage those with symptoms to talk to th...</td>\n",
       "      <td>0.143517</td>\n",
       "    </tr>\n",
       "  </tbody>\n",
       "</table>\n",
       "</div>"
      ],
      "text/plain": [
       "                                             Answers  similarity_tfidf\n",
       "0  Mental illnesses are health conditions that di...          0.199049\n",
       "1  Mental illness does can affect anyone, regardl...          0.000000\n",
       "2  Symptoms of mental health disorders vary depen...          0.406856\n",
       "3  When healing from mental illness, early identi...          0.000000\n",
       "4  We encourage those with symptoms to talk to th...          0.143517"
      ]
     },
     "execution_count": 141,
     "metadata": {},
     "output_type": "execute_result"
    }
   ],
   "source": [
    "df['similarity_tfidf'] = cos                                                    # creating a new column \n",
    "df_simi_tfidf = pd.DataFrame(df, columns=['Answers','similarity_tfidf'])        # taking similarity value of responses for the question we took\n",
    "df_simi_tfidf.head()"
   ]
  },
  {
   "cell_type": "code",
   "execution_count": 143,
   "id": "92143a81-58d2-4ad1-aad9-1faf7d1c976a",
   "metadata": {},
   "outputs": [
    {
     "data": {
      "text/html": [
       "<div>\n",
       "<style scoped>\n",
       "    .dataframe tbody tr th:only-of-type {\n",
       "        vertical-align: middle;\n",
       "    }\n",
       "\n",
       "    .dataframe tbody tr th {\n",
       "        vertical-align: top;\n",
       "    }\n",
       "\n",
       "    .dataframe thead th {\n",
       "        text-align: right;\n",
       "    }\n",
       "</style>\n",
       "<table border=\"1\" class=\"dataframe\">\n",
       "  <thead>\n",
       "    <tr style=\"text-align: right;\">\n",
       "      <th></th>\n",
       "      <th>Answers</th>\n",
       "      <th>similarity_tfidf</th>\n",
       "    </tr>\n",
       "  </thead>\n",
       "  <tbody>\n",
       "    <tr>\n",
       "      <th>6</th>\n",
       "      <td>Different treatment options are available for ...</td>\n",
       "      <td>1.000000</td>\n",
       "    </tr>\n",
       "    <tr>\n",
       "      <th>17</th>\n",
       "      <td>There are many types of mental health professi...</td>\n",
       "      <td>0.637262</td>\n",
       "    </tr>\n",
       "    <tr>\n",
       "      <th>8</th>\n",
       "      <td>There are many types of mental health professi...</td>\n",
       "      <td>0.566478</td>\n",
       "    </tr>\n",
       "    <tr>\n",
       "      <th>2</th>\n",
       "      <td>Symptoms of mental health disorders vary depen...</td>\n",
       "      <td>0.406856</td>\n",
       "    </tr>\n",
       "    <tr>\n",
       "      <th>13</th>\n",
       "      <td>Create a plan for switching to a different tre...</td>\n",
       "      <td>0.229131</td>\n",
       "    </tr>\n",
       "  </tbody>\n",
       "</table>\n",
       "</div>"
      ],
      "text/plain": [
       "                                              Answers  similarity_tfidf\n",
       "6   Different treatment options are available for ...          1.000000\n",
       "17  There are many types of mental health professi...          0.637262\n",
       "8   There are many types of mental health professi...          0.566478\n",
       "2   Symptoms of mental health disorders vary depen...          0.406856\n",
       "13  Create a plan for switching to a different tre...          0.229131"
      ]
     },
     "execution_count": 143,
     "metadata": {},
     "output_type": "execute_result"
    }
   ],
   "source": [
    "df_simi_tfidf_sort = df_simi_tfidf.sort_values(by='similarity_tfidf', ascending=False)            # sorting the values\n",
    "df_simi_tfidf_sort.head()"
   ]
  },
  {
   "cell_type": "code",
   "execution_count": 145,
   "id": "de0e971f-4eac-42d9-96ba-8424b46730f6",
   "metadata": {},
   "outputs": [
    {
     "data": {
      "text/html": [
       "<div>\n",
       "<style scoped>\n",
       "    .dataframe tbody tr th:only-of-type {\n",
       "        vertical-align: middle;\n",
       "    }\n",
       "\n",
       "    .dataframe tbody tr th {\n",
       "        vertical-align: top;\n",
       "    }\n",
       "\n",
       "    .dataframe thead th {\n",
       "        text-align: right;\n",
       "    }\n",
       "</style>\n",
       "<table border=\"1\" class=\"dataframe\">\n",
       "  <thead>\n",
       "    <tr style=\"text-align: right;\">\n",
       "      <th></th>\n",
       "      <th>Answers</th>\n",
       "      <th>similarity_tfidf</th>\n",
       "    </tr>\n",
       "  </thead>\n",
       "  <tbody>\n",
       "    <tr>\n",
       "      <th>6</th>\n",
       "      <td>Different treatment options are available for ...</td>\n",
       "      <td>1.000000</td>\n",
       "    </tr>\n",
       "    <tr>\n",
       "      <th>17</th>\n",
       "      <td>There are many types of mental health professi...</td>\n",
       "      <td>0.637262</td>\n",
       "    </tr>\n",
       "    <tr>\n",
       "      <th>8</th>\n",
       "      <td>There are many types of mental health professi...</td>\n",
       "      <td>0.566478</td>\n",
       "    </tr>\n",
       "    <tr>\n",
       "      <th>2</th>\n",
       "      <td>Symptoms of mental health disorders vary depen...</td>\n",
       "      <td>0.406856</td>\n",
       "    </tr>\n",
       "    <tr>\n",
       "      <th>13</th>\n",
       "      <td>Create a plan for switching to a different tre...</td>\n",
       "      <td>0.229131</td>\n",
       "    </tr>\n",
       "  </tbody>\n",
       "</table>\n",
       "</div>"
      ],
      "text/plain": [
       "                                              Answers  similarity_tfidf\n",
       "6   Different treatment options are available for ...          1.000000\n",
       "17  There are many types of mental health professi...          0.637262\n",
       "8   There are many types of mental health professi...          0.566478\n",
       "2   Symptoms of mental health disorders vary depen...          0.406856\n",
       "13  Create a plan for switching to a different tre...          0.229131"
      ]
     },
     "execution_count": 145,
     "metadata": {},
     "output_type": "execute_result"
    }
   ],
   "source": [
    "threshold = 0.1                                                                                   # considering the value of smiliarity to be greater than 0.1\n",
    "df_threshold = df_simi_tfidf_sort[df_simi_tfidf_sort['similarity_tfidf'] > threshold] \n",
    "df_threshold.head()"
   ]
  },
  {
   "cell_type": "code",
   "execution_count": 146,
   "id": "848cf6e9-13d2-4c27-b6f7-865fd53ba89a",
   "metadata": {},
   "outputs": [
    {
     "data": {
      "text/plain": [
       "6"
      ]
     },
     "execution_count": 146,
     "metadata": {},
     "output_type": "execute_result"
    }
   ],
   "source": [
    "index_value1 = cos.argmax()                                                   # returns the index number of highest value\n",
    "index_value1"
   ]
  },
  {
   "cell_type": "code",
   "execution_count": 147,
   "id": "d6520e68-2fd1-4258-94ee-b6bb88f6c4b6",
   "metadata": {},
   "outputs": [
    {
     "data": {
      "text/plain": [
       "'Different treatment options are available for individuals with mental illness.'"
      ]
     },
     "execution_count": 147,
     "metadata": {},
     "output_type": "execute_result"
    }
   ],
   "source": [
    "df['Answers'].loc[index_value1]                                               # returns the text at that index"
   ]
  },
  {
   "cell_type": "markdown",
   "id": "f3b5679d-94e2-4bde-bf0f-eed0e32009f3",
   "metadata": {},
   "source": [
    "## Testing Chatbot\n"
   ]
  },
  {
   "cell_type": "code",
   "execution_count": 152,
   "id": "59792691-88c7-4530-bab6-7b336dc30e25",
   "metadata": {},
   "outputs": [],
   "source": [
    "# defining a function that returns response to query using bow\n",
    "\n",
    "def chat_bow(text):\n",
    "    lemma = text_normalization(text) # calling the function to perform text normalization\n",
    "    bow = cv.transform([lemma]).toarray() # applying bow\n",
    "    cosine_value = 1- pairwise_distances(df_bot,bow, metric = 'cosine' )\n",
    "    index_value = cosine_value.argmax() # getting index value \n",
    "    return df['Answers'].loc[index_value]"
   ]
  },
  {
   "cell_type": "code",
   "execution_count": 153,
   "id": "8f72eac2-8469-477a-8aa4-3dcb49f5f7d3",
   "metadata": {},
   "outputs": [
    {
     "data": {
      "text/plain": [
       "'When healing from mental illness, early identification and treatment are of vital importance. '"
      ]
     },
     "execution_count": 153,
     "metadata": {},
     "output_type": "execute_result"
    }
   ],
   "source": [
    "chat_bow('can you prevent mental health problems')"
   ]
  },
  {
   "cell_type": "code",
   "execution_count": 155,
   "id": "e914122d-94a9-414e-a027-d6e91961f821",
   "metadata": {},
   "outputs": [
    {
     "data": {
      "text/plain": [
       "'It is important to be as involved and engaged in the treatment process as possible.'"
      ]
     },
     "execution_count": 155,
     "metadata": {},
     "output_type": "execute_result"
    }
   ],
   "source": [
    "chat_bow(\"I'm in depression\")"
   ]
  },
  {
   "cell_type": "code",
   "execution_count": 156,
   "id": "ef0efa7f-dab6-42bf-96eb-f7d7433db941",
   "metadata": {},
   "outputs": [
    {
     "name": "stdout",
     "output_type": "stream",
     "text": [
      "Hello! I'm a chatbot. Ask me anything.\n"
     ]
    },
    {
     "name": "stdin",
     "output_type": "stream",
     "text": [
      "You:  I'm in depression\n"
     ]
    },
    {
     "name": "stdout",
     "output_type": "stream",
     "text": [
      "Chatbot: It is important to be as involved and engaged in the treatment process as possible.\n"
     ]
    },
    {
     "name": "stdin",
     "output_type": "stream",
     "text": [
      "You:  i want medical assistance\n"
     ]
    },
    {
     "name": "stdout",
     "output_type": "stream",
     "text": [
      "Chatbot: Mental illnesses are health conditions that disrupt a person's thoughts, emotions, relationships, and daily functioning.\n"
     ]
    },
    {
     "name": "stdin",
     "output_type": "stream",
     "text": [
      "You:  where i can get medical assistance?\n"
     ]
    },
    {
     "name": "stdout",
     "output_type": "stream",
     "text": [
      "Chatbot: family member, friend, clergy, healthcare provider, or other professionals\n"
     ]
    },
    {
     "name": "stdin",
     "output_type": "stream",
     "text": [
      "You:  i wish i can do suicide\n"
     ]
    },
    {
     "name": "stdout",
     "output_type": "stream",
     "text": [
      "Chatbot: Mental illness does can affect anyone, regardless of gender, age, income, social status, ethnicity, religion, sexual orientation, or background.\n"
     ]
    },
    {
     "name": "stdin",
     "output_type": "stream",
     "text": [
      "You:  bye\n"
     ]
    },
    {
     "name": "stdout",
     "output_type": "stream",
     "text": [
      "Chatbot: Goodbye!\n"
     ]
    }
   ],
   "source": [
    "# Chatbot function\n",
    "def chatbot():\n",
    "    print(\"Hello! I'm a chatbot. Ask me anything.\")\n",
    "    while True:\n",
    "        user_input = input(\"You: \")\n",
    "        if user_input.lower() in ['exit', 'quit', 'bye']:\n",
    "            print(\"Chatbot: Goodbye!\")\n",
    "            break\n",
    "        response = chat_bow(user_input)\n",
    "        print(\"Chatbot:\", response)\n",
    "\n",
    "# Running the chatbot\n",
    "chatbot()"
   ]
  },
  {
   "cell_type": "code",
   "execution_count": 157,
   "id": "1b38db14-1356-48b6-97b1-ad964e7c2c07",
   "metadata": {},
   "outputs": [],
   "source": [
    "# defining a function that returns response to query using tf-idf\n",
    "\n",
    "def chat_tfidf(text):\n",
    "    lemma = text_normalization(text) # calling the function to perform text normalization\n",
    "    tf = tfidf.transform([lemma]).toarray() # applying tf-idf\n",
    "    cos = 1-pairwise_distances(df_tfidf,tf,metric='cosine') # applying cosine similarity\n",
    "    index_value = cos.argmax() # getting index value \n",
    "    return df['Answers'].loc[index_value]"
   ]
  },
  {
   "cell_type": "code",
   "execution_count": 160,
   "id": "39fb8f98-0908-40a2-bf0e-70f74a139bc1",
   "metadata": {},
   "outputs": [
    {
     "name": "stdout",
     "output_type": "stream",
     "text": [
      "Hello! I'm a chatbot. Ask me anything.\n"
     ]
    },
    {
     "name": "stdin",
     "output_type": "stream",
     "text": [
      "You:  i think i need medical assistance\n"
     ]
    },
    {
     "name": "stdout",
     "output_type": "stream",
     "text": [
      "Chatbot: Mental illnesses are health conditions that disrupt a person's thoughts, emotions, relationships, and daily functioning.\n"
     ]
    },
    {
     "name": "stdin",
     "output_type": "stream",
     "text": [
      "You:  how do i see a counsellor\n"
     ]
    },
    {
     "name": "stdout",
     "output_type": "stream",
     "text": [
      "Chatbot: Visit Healthfinder.gov to learn more.\n"
     ]
    },
    {
     "name": "stdin",
     "output_type": "stream",
     "text": [
      "You:  exit\n"
     ]
    },
    {
     "name": "stdout",
     "output_type": "stream",
     "text": [
      "Chatbot: Goodbye!\n"
     ]
    }
   ],
   "source": [
    "# Chatbot function\n",
    "def chatbot():\n",
    "    print(\"Hello! I'm a chatbot. Ask me anything.\")\n",
    "    while True:\n",
    "        user_input = input(\"You: \")\n",
    "        if user_input.lower() in ['exit', 'quit', 'bye']:\n",
    "            print(\"Chatbot: Goodbye!\")\n",
    "            break\n",
    "        response = chat_tfidf(user_input)\n",
    "        print(\"Chatbot:\", response)\n",
    "\n",
    "# Running the chatbot\n",
    "chatbot()"
   ]
  },
  {
   "cell_type": "markdown",
   "id": "cfc64183-60d4-4b87-acd3-a730b878c1ea",
   "metadata": {},
   "source": [
    "## Conclusion\n",
    "This smart conversational agent aims to provide immediate support for mental health issues through empathetic conversation and coping strategies. While it is not a replacement for professional help, it serves as a valuable tool for users seeking immediate assistance."
   ]
  }
 ],
 "metadata": {
  "kernelspec": {
   "display_name": "Python 3 (ipykernel)",
   "language": "python",
   "name": "python3"
  },
  "language_info": {
   "codemirror_mode": {
    "name": "ipython",
    "version": 3
   },
   "file_extension": ".py",
   "mimetype": "text/x-python",
   "name": "python",
   "nbconvert_exporter": "python",
   "pygments_lexer": "ipython3",
   "version": "3.11.7"
  }
 },
 "nbformat": 4,
 "nbformat_minor": 5
}
